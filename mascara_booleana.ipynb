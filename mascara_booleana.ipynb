{
  "nbformat": 4,
  "nbformat_minor": 0,
  "metadata": {
    "colab": {
      "provenance": [],
      "authorship_tag": "ABX9TyOtNKldGEskR6TpYIxgvZHd",
      "include_colab_link": true
    },
    "kernelspec": {
      "name": "python3",
      "display_name": "Python 3"
    },
    "language_info": {
      "name": "python"
    }
  },
  "cells": [
    {
      "cell_type": "markdown",
      "metadata": {
        "id": "view-in-github",
        "colab_type": "text"
      },
      "source": [
        "<a href=\"https://colab.research.google.com/github/mariodac/7DaysOfCode_Python_pandas/blob/main/mascara_booleana.ipynb\" target=\"_parent\"><img src=\"https://colab.research.google.com/assets/colab-badge.svg\" alt=\"Open In Colab\"/></a>"
      ]
    },
    {
      "cell_type": "markdown",
      "source": [
        "# Máscaras Booleanas"
      ],
      "metadata": {
        "id": "giXKPQH3FeYC"
      }
    },
    {
      "cell_type": "code",
      "source": [
        "import numpy as np"
      ],
      "metadata": {
        "id": "KQkm2SzaFiPw"
      },
      "execution_count": 4,
      "outputs": []
    },
    {
      "cell_type": "code",
      "source": [
        "is_covid_positive = np.array(['Yes', 'No', 'No', 'Yes', 'Yes', 'No'])"
      ],
      "metadata": {
        "id": "y4mMkXNQFo_Q"
      },
      "execution_count": 5,
      "outputs": []
    },
    {
      "cell_type": "code",
      "source": [
        "mask = is_covid_positive == 'Yes'"
      ],
      "metadata": {
        "id": "iJoiweVgF6iB"
      },
      "execution_count": 6,
      "outputs": []
    },
    {
      "cell_type": "code",
      "source": [
        "print(mask)"
      ],
      "metadata": {
        "colab": {
          "base_uri": "https://localhost:8080/"
        },
        "id": "hiLeW7BxF-Tp",
        "outputId": "a052804c-aa1d-46d9-833c-16da97e06cd3"
      },
      "execution_count": 7,
      "outputs": [
        {
          "output_type": "stream",
          "name": "stdout",
          "text": [
            "[ True False False  True  True False]\n"
          ]
        }
      ]
    },
    {
      "cell_type": "code",
      "source": [
        "print(is_covid_positive[mask])"
      ],
      "metadata": {
        "colab": {
          "base_uri": "https://localhost:8080/"
        },
        "id": "m3IUePLoGGw4",
        "outputId": "dc0c9049-60f0-488b-ddfa-ca8e7531ee24"
      },
      "execution_count": 8,
      "outputs": [
        {
          "output_type": "stream",
          "name": "stdout",
          "text": [
            "['Yes' 'Yes' 'Yes']\n"
          ]
        }
      ]
    },
    {
      "cell_type": "code",
      "source": [
        "is_covid_positive[mask] = 'C19'\n",
        "print(is_covid_positive)"
      ],
      "metadata": {
        "colab": {
          "base_uri": "https://localhost:8080/"
        },
        "id": "CI5LS3v2GMEx",
        "outputId": "eab50841-89f2-43a9-e5e1-0bd422a14d47"
      },
      "execution_count": 9,
      "outputs": [
        {
          "output_type": "stream",
          "name": "stdout",
          "text": [
            "['C19' 'No' 'No' 'C19' 'C19' 'No']\n"
          ]
        }
      ]
    },
    {
      "cell_type": "code",
      "source": [
        "notas = np.array([4.9, 6.5, 3.2, 6.7])\n",
        "print(notas)"
      ],
      "metadata": {
        "colab": {
          "base_uri": "https://localhost:8080/"
        },
        "id": "4CnfRBcBGXsn",
        "outputId": "5d1874dc-5014-4866-ff3d-65a559cdb99d"
      },
      "execution_count": 12,
      "outputs": [
        {
          "output_type": "stream",
          "name": "stdout",
          "text": [
            "[4.9 6.5 3.2 6.7]\n"
          ]
        }
      ]
    },
    {
      "cell_type": "code",
      "source": [
        "mask_notas = notas >= 6\n",
        "print(mask_notas)"
      ],
      "metadata": {
        "colab": {
          "base_uri": "https://localhost:8080/"
        },
        "id": "Ton98YMbGi2Y",
        "outputId": "4380d3c7-1849-49f5-8409-52097ac5b392"
      },
      "execution_count": 11,
      "outputs": [
        {
          "output_type": "stream",
          "name": "stdout",
          "text": [
            "[False  True False  True]\n"
          ]
        }
      ]
    },
    {
      "cell_type": "markdown",
      "source": [
        "Monte uma lista com algumas notas e exiba as que estão abaixo de 5"
      ],
      "metadata": {
        "id": "fUySce5NGqND"
      }
    },
    {
      "cell_type": "code",
      "source": [
        "notas_alunos = np.array([4.9, 6.5, 3.2, 6.7, 8.9, 9.1])\n",
        "mask_notas_alunos = notas_alunos < 5\n",
        "print(notas_alunos[mask_notas_alunos])"
      ],
      "metadata": {
        "colab": {
          "base_uri": "https://localhost:8080/"
        },
        "id": "jjHuiBOFG8Jx",
        "outputId": "63674944-3276-48c3-ad5d-cb5e3390a1dc"
      },
      "execution_count": 19,
      "outputs": [
        {
          "output_type": "stream",
          "name": "stdout",
          "text": [
            "[4.9 3.2]\n"
          ]
        }
      ]
    }
  ]
}
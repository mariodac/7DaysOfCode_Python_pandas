{
  "nbformat": 4,
  "nbformat_minor": 0,
  "metadata": {
    "colab": {
      "provenance": [],
      "authorship_tag": "ABX9TyOFHX8jEIyOewKzf1r8leny",
      "include_colab_link": true
    },
    "kernelspec": {
      "name": "python3",
      "display_name": "Python 3"
    },
    "language_info": {
      "name": "python"
    }
  },
  "cells": [
    {
      "cell_type": "markdown",
      "metadata": {
        "id": "view-in-github",
        "colab_type": "text"
      },
      "source": [
        "<a href=\"https://colab.research.google.com/github/mariodac/7DaysOfCode_Python_pandas/blob/main/intro_numpy.ipynb\" target=\"_parent\"><img src=\"https://colab.research.google.com/assets/colab-badge.svg\" alt=\"Open In Colab\"/></a>"
      ]
    },
    {
      "cell_type": "markdown",
      "source": [
        "# Arrays"
      ],
      "metadata": {
        "id": "YnmPYrGE9FMu"
      }
    },
    {
      "cell_type": "code",
      "execution_count": 29,
      "metadata": {
        "id": "f06xbgoh5iOq"
      },
      "outputs": [],
      "source": [
        "import numpy as np"
      ]
    },
    {
      "cell_type": "code",
      "source": [
        "lista = [1, 2, 3, 4, 5, 6]\n",
        "\n",
        "array = np.array(lista)"
      ],
      "metadata": {
        "id": "Bsl8Oz9B64_Q"
      },
      "execution_count": 30,
      "outputs": []
    },
    {
      "cell_type": "code",
      "source": [
        "print(lista)\n",
        "print(array)"
      ],
      "metadata": {
        "colab": {
          "base_uri": "https://localhost:8080/"
        },
        "id": "F7qMNscS66Wy",
        "outputId": "f3874d32-9072-4b8f-9e0c-ee60ace86869"
      },
      "execution_count": 31,
      "outputs": [
        {
          "output_type": "stream",
          "name": "stdout",
          "text": [
            "[1, 2, 3, 4, 5, 6]\n",
            "[1 2 3 4 5 6]\n"
          ]
        }
      ]
    },
    {
      "cell_type": "code",
      "source": [
        "print(type(lista))\n",
        "print(type(array))"
      ],
      "metadata": {
        "colab": {
          "base_uri": "https://localhost:8080/"
        },
        "id": "R-lqN1tO7IU3",
        "outputId": "8f5684ad-cba2-48fc-e825-296d7d916933"
      },
      "execution_count": 32,
      "outputs": [
        {
          "output_type": "stream",
          "name": "stdout",
          "text": [
            "<class 'list'>\n",
            "<class 'numpy.ndarray'>\n"
          ]
        }
      ]
    },
    {
      "cell_type": "code",
      "source": [
        "array_zeros = np.zeros(10)\n",
        "print(array_zeros)"
      ],
      "metadata": {
        "colab": {
          "base_uri": "https://localhost:8080/"
        },
        "id": "LCrzsZvs7Mq4",
        "outputId": "bbe2a499-d56e-470d-90a9-34d14d53a494"
      },
      "execution_count": 33,
      "outputs": [
        {
          "output_type": "stream",
          "name": "stdout",
          "text": [
            "[0. 0. 0. 0. 0. 0. 0. 0. 0. 0.]\n"
          ]
        }
      ]
    },
    {
      "cell_type": "code",
      "source": [
        "print(array[0])"
      ],
      "metadata": {
        "colab": {
          "base_uri": "https://localhost:8080/"
        },
        "id": "ulZYxWLZ7UBG",
        "outputId": "6c2d36f3-fbc5-468f-d802-68c5faa9e2f4"
      },
      "execution_count": 34,
      "outputs": [
        {
          "output_type": "stream",
          "name": "stdout",
          "text": [
            "1\n"
          ]
        }
      ]
    },
    {
      "cell_type": "code",
      "source": [
        "array[0] = 10\n",
        "print(array)"
      ],
      "metadata": {
        "colab": {
          "base_uri": "https://localhost:8080/"
        },
        "id": "RVuK3sa888d7",
        "outputId": "077ef6c9-8c7d-4d54-83ce-775a2c899b36"
      },
      "execution_count": 35,
      "outputs": [
        {
          "output_type": "stream",
          "name": "stdout",
          "text": [
            "[10  2  3  4  5  6]\n"
          ]
        }
      ]
    },
    {
      "cell_type": "markdown",
      "source": [
        "# Matrizes"
      ],
      "metadata": {
        "id": "GRi3ObZU9LWs"
      }
    },
    {
      "cell_type": "code",
      "source": [
        "matriz_zero = np.zeros((5, 3))\n",
        "print(matriz_zero)"
      ],
      "metadata": {
        "colab": {
          "base_uri": "https://localhost:8080/"
        },
        "id": "W3Sg7H5K9P1D",
        "outputId": "54966383-63e3-419c-abbc-2bdd6d77c3a6"
      },
      "execution_count": 36,
      "outputs": [
        {
          "output_type": "stream",
          "name": "stdout",
          "text": [
            "[[0. 0. 0.]\n",
            " [0. 0. 0.]\n",
            " [0. 0. 0.]\n",
            " [0. 0. 0.]\n",
            " [0. 0. 0.]]\n"
          ]
        }
      ]
    },
    {
      "cell_type": "markdown",
      "source": [
        "## Notas de alunos"
      ],
      "metadata": {
        "id": "V8NYhChi9eLN"
      }
    },
    {
      "cell_type": "code",
      "source": [
        "lista_notas = [9.8, 5.6, 7.8, 9.1, 6.5]\n",
        "notas = np.array(lista_notas)\n",
        "print(notas)\n",
        "print('Máximo', notas.max())\n",
        "print('Mínimo', notas.min())\n",
        "print('Desvio Padrão', notas.std())\n",
        "print('Média', notas.mean())\n",
        "print('Posição menor', notas.argmin())\n",
        "print('Posição maior', notas.argmax())"
      ],
      "metadata": {
        "colab": {
          "base_uri": "https://localhost:8080/"
        },
        "id": "dEyusO0Z9iW1",
        "outputId": "6eb498ba-080a-439f-df8a-e61276e9f74b"
      },
      "execution_count": 37,
      "outputs": [
        {
          "output_type": "stream",
          "name": "stdout",
          "text": [
            "[9.8 5.6 7.8 9.1 6.5]\n",
            "Máximo 9.8\n",
            "Mínimo 5.6\n",
            "Desvio Padrão 1.5628179676469045\n",
            "Média 7.76\n",
            "Posição menor 1\n",
            "Posição maior 0\n"
          ]
        }
      ]
    },
    {
      "cell_type": "markdown",
      "source": [
        "Escreva um programa que peça para o usuário digitar 10 notas de alunos, e realize algumas operações com esses dados"
      ],
      "metadata": {
        "id": "HMfkplIE-Y18"
      }
    },
    {
      "cell_type": "code",
      "source": [
        "notas = []\n",
        "for index in range(10):\n",
        "    nota = float(input(f'Digite a nota #{index+1} do aluno: '))\n",
        "    notas.append(nota)5\n",
        "array_notas = np.array(notas)\n",
        "print('Notas digitadas', array_notas)\n",
        "print(f'Maior nota {array_notas.max()} e sua posição é {array_notas.argmax()}')\n",
        "print(f'Maior nota {array_notas.min()} e sua posição é {array_notas.argmin()}')\n",
        "print(f'Desvio Padrão {array_notas.std()}')\n",
        "print(f'Média {array_notas.mean()}')"
      ],
      "metadata": {
        "colab": {
          "base_uri": "https://localhost:8080/"
        },
        "id": "o-Ny29LS-PO9",
        "outputId": "9c5cf710-069a-4bb6-ee6c-79905fc22e95"
      },
      "execution_count": 48,
      "outputs": [
        {
          "output_type": "stream",
          "name": "stdout",
          "text": [
            "Digite a nota #1 do aluno: 1\n",
            "Digite a nota #2 do aluno: 2\n",
            "Digite a nota #3 do aluno: 3\n",
            "Digite a nota #4 do aluno: 4\n",
            "Digite a nota #5 do aluno: 5\n",
            "Digite a nota #6 do aluno: 6\n",
            "Digite a nota #7 do aluno: 74\n",
            "Digite a nota #8 do aluno: 5\n",
            "Digite a nota #9 do aluno: 6\n",
            "Digite a nota #10 do aluno: 10\n",
            "Notas digitadas [ 1.  2.  3.  4.  5.  6. 74.  5.  6. 10.]\n",
            "Maior nota 74.0 e sua posição é 6\n",
            "Maior nota 1.0 e sua posição é 0\n",
            "Desvio Padrão 20.934182573007238\n",
            "Média 11.6\n"
          ]
        }
      ]
    }
  ]
}
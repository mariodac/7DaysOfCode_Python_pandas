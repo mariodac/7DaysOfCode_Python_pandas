{
  "cells": [
    {
      "attachments": {},
      "cell_type": "markdown",
      "metadata": {
        "colab_type": "text",
        "id": "view-in-github"
      },
      "source": [
        "<a href=\"https://colab.research.google.com/github/mariodac/7DaysOfCode_Python_pandas/blob/main/7DaysOfCodeChallenge.ipynb\" target=\"_parent\"><img src=\"https://colab.research.google.com/assets/colab-badge.svg\" alt=\"Open In Colab\"/></a>"
      ]
    },
    {
      "cell_type": "markdown",
      "metadata": {
        "id": "P2yBCr7h2r9s"
      },
      "source": [
        "# Dia 1 - Importação de dados\n",
        "\n",
        "---\n",
        "\n"
      ]
    },
    {
      "cell_type": "markdown",
      "metadata": {
        "id": "XCF1fVTwzicx"
      },
      "source": [
        "Importando bibliotecas"
      ]
    },
    {
      "cell_type": "code",
      "execution_count": null,
      "metadata": {
        "id": "s3ZbjXIkzdvr"
      },
      "outputs": [],
      "source": [
        "import pandas as pd\n",
        "import requests\n",
        "from bs4 import BeautifulSoup"
      ]
    },
    {
      "cell_type": "markdown",
      "metadata": {
        "id": "bKpbdmqe0tYr"
      },
      "source": [
        "Obtendo dados dos CSV's do github"
      ]
    },
    {
      "cell_type": "code",
      "execution_count": null,
      "metadata": {
        "colab": {
          "base_uri": "https://localhost:8080/"
        },
        "id": "kri-SILS0x5z",
        "outputId": "a16c64fb-aa76-40f0-d911-22abc6fc3d06"
      },
      "outputs": [],
      "source": [
        "link = \"https://github.com/FranciscoFoz/7_Days_of_Code_Alura-Python-Pandas/tree/main/Dia_1-Importando_dados/Datasets/dados_emprestimos\"\n",
        "req = requests.get(link)\n",
        "soup = BeautifulSoup(req.content)\n",
        "links_files = ['https://github.com'+x.get('href')+'?raw=true' for x in soup.find_all('a', class_='js-navigation-open Link--primary') if x.get('href')]\n",
        "dataframes = [pd.read_csv(x) for x in links_files]\n",
        "dataframes"
      ]
    },
    {
      "cell_type": "markdown",
      "metadata": {
        "id": "S_mxo2sPDU1i"
      },
      "source": [
        "Concatenando os dataframes"
      ]
    },
    {
      "cell_type": "code",
      "execution_count": null,
      "metadata": {
        "colab": {
          "base_uri": "https://localhost:8080/",
          "height": 424
        },
        "id": "jwA7q3yQEBtm",
        "outputId": "0c8d9b4b-5d10-4af1-c2cc-e705a8a087f6"
      },
      "outputs": [],
      "source": [
        "emprestimos = pd.concat(dataframes)\n",
        "emprestimos"
      ]
    },
    {
      "cell_type": "markdown",
      "metadata": {
        "id": "BYR-I-QvGdJT"
      },
      "source": [
        "Verificando dados duplicados"
      ]
    },
    {
      "cell_type": "code",
      "execution_count": null,
      "metadata": {
        "colab": {
          "base_uri": "https://localhost:8080/",
          "height": 1000
        },
        "id": "pc5UVwlfG1Ki",
        "outputId": "2d2e33e7-f99b-4265-ac5a-b5bdb28096bf"
      },
      "outputs": [],
      "source": [
        "duplicatas = emprestimos[emprestimos.duplicated()]\n",
        "duplicatas"
      ]
    },
    {
      "cell_type": "markdown",
      "metadata": {
        "id": "N-Vs4ip4JPYD"
      },
      "source": [
        "Removendo duplicatas"
      ]
    },
    {
      "cell_type": "code",
      "execution_count": null,
      "metadata": {
        "colab": {
          "base_uri": "https://localhost:8080/",
          "height": 682
        },
        "id": "ODDEDLS-JRlk",
        "outputId": "8b098e3c-440a-4047-be11-721681ccbf87"
      },
      "outputs": [],
      "source": [
        "emprestimos = emprestimos.drop_duplicates()\n",
        "unique = emprestimos.value_counts()\n",
        "duplicatas = emprestimos[emprestimos.duplicated()]\n",
        "display(unique, emprestimos, duplicatas)"
      ]
    },
    {
      "cell_type": "markdown",
      "metadata": {
        "id": "0D9AqfIpTo1q"
      },
      "source": [
        "Verificando valores NaN"
      ]
    },
    {
      "cell_type": "code",
      "execution_count": null,
      "metadata": {
        "colab": {
          "base_uri": "https://localhost:8080/"
        },
        "id": "cKzBpaqyTrij",
        "outputId": "819cc634-58e9-4bd6-aca4-ba23d278861f"
      },
      "outputs": [],
      "source": [
        "emprestimos.isnull().values.any()"
      ]
    },
    {
      "cell_type": "markdown",
      "metadata": {
        "id": "u1ytbnuqPYhi"
      },
      "source": [
        "Removendo linhas com valores NaN"
      ]
    },
    {
      "cell_type": "code",
      "execution_count": null,
      "metadata": {
        "colab": {
          "base_uri": "https://localhost:8080/",
          "height": 424
        },
        "id": "bDRkCWf_PcXx",
        "outputId": "53bd0d53-a748-4dcb-b915-570b7c527893"
      },
      "outputs": [],
      "source": [
        "emprestimos = emprestimos.dropna(how='all')\n",
        "emprestimos"
      ]
    },
    {
      "cell_type": "markdown",
      "metadata": {
        "id": "FRmww6PkQXhW"
      },
      "source": [
        "Importando dados acervo"
      ]
    },
    {
      "cell_type": "code",
      "execution_count": null,
      "metadata": {
        "colab": {
          "base_uri": "https://localhost:8080/",
          "height": 455
        },
        "id": "bqPCC1z6Qa-8",
        "outputId": "ae0a2dc5-4ffe-4365-e238-65f16f48b6f4"
      },
      "outputs": [],
      "source": [
        "acervo = pd.read_parquet(\"https://github.com/FranciscoFoz/7_Days_of_Code_Alura-Python-Pandas/blob/main/Dia_1-Importando_dados/Datasets/dados_exemplares.parquet?raw=true\")\n",
        "acervo"
      ]
    },
    {
      "cell_type": "markdown",
      "metadata": {
        "id": "P2Qth3dES_Fr"
      },
      "source": [
        "Verificando dados duplicados acervo"
      ]
    },
    {
      "cell_type": "code",
      "execution_count": null,
      "metadata": {
        "colab": {
          "base_uri": "https://localhost:8080/",
          "height": 81
        },
        "id": "tshh6GVES_Fr",
        "outputId": "31e664d3-a297-4a29-d283-77376aef054c"
      },
      "outputs": [],
      "source": [
        "duplicatas = acervo[acervo.duplicated()]\n",
        "duplicatas"
      ]
    },
    {
      "cell_type": "markdown",
      "metadata": {
        "id": "vFxRRzxXT1S8"
      },
      "source": [
        "Verificando valores NaN"
      ]
    },
    {
      "cell_type": "code",
      "execution_count": null,
      "metadata": {
        "colab": {
          "base_uri": "https://localhost:8080/"
        },
        "id": "u8PMHIihT1S9",
        "outputId": "77ff6511-95d9-493e-99e0-1517ebc71574"
      },
      "outputs": [],
      "source": [
        "acervo.isnull().values.any()"
      ]
    },
    {
      "cell_type": "markdown",
      "metadata": {
        "id": "gc46PqRrT6ip"
      },
      "source": [
        "Mesclando dados de emprestimos com dados do acervo"
      ]
    },
    {
      "cell_type": "code",
      "execution_count": null,
      "metadata": {
        "colab": {
          "base_uri": "https://localhost:8080/",
          "height": 676
        },
        "id": "V1NsCG1_UBFp",
        "outputId": "a56220e9-b8d8-4bce-a415-4c6f58728aeb"
      },
      "outputs": [],
      "source": [
        "dados_completos = emprestimos.merge(acervo)\n",
        "dados_completos"
      ]
    },
    {
      "attachments": {},
      "cell_type": "markdown",
      "metadata": {},
      "source": [
        "# Dia 2 - Limpeza de Dados\n",
        "\n",
        "---\n",
        "\n"
      ]
    },
    {
      "attachments": {},
      "cell_type": "markdown",
      "metadata": {},
      "source": [
        "CDU - Classificação Decimal Universal"
      ]
    },
    {
      "cell_type": "code",
      "execution_count": null,
      "metadata": {},
      "outputs": [],
      "source": [
        "CDUs = []\n",
        "for x in dados_completos['localizacao']:\n",
        "  if x > 0 or x <= 99:\n",
        "    CDUs.append(\"Generalidades. Ciência e conhecimento.\")\n",
        "  elif x >= 100 or x <= 199:\n",
        "    CDUs.append(\"Filosofia e psicologia.\")\n",
        "  elif x >= 200 or x <= 299:\n",
        "    CDUs.append(\"Religião.\")\n",
        "  elif x >= 300 or x <= 399:\n",
        "    CDUs.append(\"Ciências sociais.\")\n",
        "  elif x >= 400 or x <= 499:\n",
        "    CDUs.append(\"Classe vaga. Provisoriamente não ocupada.\")\n",
        "  elif x >= 500 or x <= 599:\n",
        "    CDUs.append(\"Matemática e ciências naturais.\")\n",
        "  elif x >= 600 or x <= 699:\n",
        "    CDUs.append(\"Ciências aplicadas.\")\n",
        "  elif x >= 700 or x <= 799:\n",
        "    CDUs.append(\"Belas artes.\")\n",
        "  elif x >= 800 or x <= 899:\n",
        "    CDUs.append(\"Linguagem. Língua. Linguística.\")\n",
        "  elif x >= 900 or x <= 999:\n",
        "    CDUs.append(\"Geografia. Biografia. História.\")\n",
        "  else:\n",
        "    print(\"Fora do intervalo\")\n",
        "CDUs"
      ]
    },
    {
      "attachments": {},
      "cell_type": "markdown",
      "metadata": {},
      "source": [
        "Adicionando coluna CDU aos dados completos"
      ]
    },
    {
      "cell_type": "code",
      "execution_count": null,
      "metadata": {},
      "outputs": [],
      "source": [
        "dados_completos['classificacao_CDU'] = CDUs\n",
        "dados_completos.head()"
      ]
    },
    {
      "attachments": {},
      "cell_type": "markdown",
      "metadata": {},
      "source": [
        "Limpeza de dados - Exclusão de coluna"
      ]
    },
    {
      "cell_type": "code",
      "execution_count": null,
      "metadata": {},
      "outputs": [],
      "source": [
        "dados_completos.drop(columns=\"registro_sistema\", inplace=True)\n",
        "dados_completos.head()"
      ]
    },
    {
      "attachments": {},
      "cell_type": "markdown",
      "metadata": {},
      "source": [
        "Alterando dados NaN para 0"
      ]
    },
    {
      "cell_type": "code",
      "execution_count": null,
      "metadata": {},
      "outputs": [],
      "source": [
        "# dados_completos = dados_completos.fillna(0)\n",
        "# dados_completos.head()"
      ]
    },
    {
      "attachments": {},
      "cell_type": "markdown",
      "metadata": {},
      "source": [
        "Tranformando coluna \"matricula_ou_siape\" em formato String"
      ]
    },
    {
      "cell_type": "code",
      "execution_count": null,
      "metadata": {},
      "outputs": [],
      "source": [
        "# dados_completos[\"matricula_ou_siape\"] = dados_completos[\"matricula_ou_siape\"].astype(int)\n",
        "dados_completos[\"matricula_ou_siape\"] = dados_completos[\"matricula_ou_siape\"].astype(str)\n",
        "dados_completos.head()"
      ]
    },
    {
      "attachments": {},
      "cell_type": "markdown",
      "metadata": {},
      "source": [
        "# Dia 3 - Análise exploratória de dados e DateTime\n",
        "\n",
        "---\n",
        "\n"
      ]
    },
    {
      "attachments": {},
      "cell_type": "markdown",
      "metadata": {},
      "source": [
        "Importando bibliotecas"
      ]
    },
    {
      "cell_type": "code",
      "execution_count": null,
      "metadata": {},
      "outputs": [],
      "source": [
        "import seaborn as sns\n",
        "import matplotlib.ticker as ticker\n",
        "import matplotlib.pyplot as plt"
      ]
    },
    {
      "attachments": {},
      "cell_type": "markdown",
      "metadata": {},
      "source": [
        "Contando empréstimos"
      ]
    },
    {
      "cell_type": "code",
      "execution_count": null,
      "metadata": {},
      "outputs": [],
      "source": [
        "dados_completos['id_emprestimo'].value_counts()"
      ]
    },
    {
      "attachments": {},
      "cell_type": "markdown",
      "metadata": {},
      "source": [
        "Cada empréstimo varia a quantidade, ou seja, cada empréstimo pode conter mais de um exemplar"
      ]
    },
    {
      "cell_type": "code",
      "execution_count": null,
      "metadata": {},
      "outputs": [],
      "source": [
        "dados_completos.loc[dados_completos['id_emprestimo']==2421605]"
      ]
    },
    {
      "attachments": {},
      "cell_type": "markdown",
      "metadata": {},
      "source": [
        "Eliminando duplicatas para obter o número real de empréstimos"
      ]
    },
    {
      "cell_type": "code",
      "execution_count": null,
      "metadata": {},
      "outputs": [],
      "source": [
        "emprestimos_clear = dados_completos['id_emprestimo'].drop_duplicates().value_counts()\n",
        "emprestimos_total = len(emprestimos_clear)\n",
        "display(emprestimos_clear, emprestimos_total)"
      ]
    },
    {
      "cell_type": "code",
      "execution_count": null,
      "metadata": {},
      "outputs": [],
      "source": [
        "dados_completos.loc[:,'data_emprestimo']"
      ]
    }
  ],
  "metadata": {
    "colab": {
      "authorship_tag": "ABX9TyO+KzF/X7LtKRY5DPab9ZOm",
      "include_colab_link": true,
      "provenance": []
    },
    "kernelspec": {
      "display_name": "Python 3",
      "name": "python3"
    },
    "language_info": {
      "codemirror_mode": {
        "name": "ipython",
        "version": 3
      },
      "file_extension": ".py",
      "mimetype": "text/x-python",
      "name": "python",
      "nbconvert_exporter": "python",
      "pygments_lexer": "ipython3",
      "version": "3.10.9"
    }
  },
  "nbformat": 4,
  "nbformat_minor": 0
}
